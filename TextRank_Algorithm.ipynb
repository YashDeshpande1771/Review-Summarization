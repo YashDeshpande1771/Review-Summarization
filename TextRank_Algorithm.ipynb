{
  "nbformat": 4,
  "nbformat_minor": 0,
  "metadata": {
    "colab": {
      "name": "TextRank Algorithm.ipynb",
      "provenance": [],
      "include_colab_link": true
    },
    "kernelspec": {
      "name": "python3",
      "display_name": "Python 3"
    }
  },
  "cells": [
    {
      "cell_type": "markdown",
      "metadata": {
        "id": "view-in-github",
        "colab_type": "text"
      },
      "source": [
        "<a href=\"https://colab.research.google.com/github/YashDeshpande1771/Review-Summarization/blob/master/TextRank_Algorithm.ipynb\" target=\"_parent\"><img src=\"https://colab.research.google.com/assets/colab-badge.svg\" alt=\"Open In Colab\"/></a>"
      ]
    },
    {
      "cell_type": "code",
      "metadata": {
        "id": "zAuKJvkumG9w",
        "colab_type": "code",
        "outputId": "83dce707-f94c-4cfe-97a7-0d9b7f6963f6",
        "colab": {
          "base_uri": "https://localhost:8080/",
          "height": 63
        }
      },
      "source": [
        "import tensorflow as tf\n",
        "import tensorflow_hub as hub\n",
        "import matplotlib.pyplot as plt\n",
        "import numpy as np\n",
        "import os\n",
        "import pandas as pd\n",
        "import re\n",
        "import seaborn as sns"
      ],
      "execution_count": 0,
      "outputs": [
        {
          "output_type": "display_data",
          "data": {
            "text/html": [
              "<p style=\"color: red;\">\n",
              "The default version of TensorFlow in Colab will soon switch to TensorFlow 2.x.<br>\n",
              "We recommend you <a href=\"https://www.tensorflow.org/guide/migrate\" target=\"_blank\">upgrade</a> now \n",
              "or ensure your notebook will continue to use TensorFlow 1.x via the <code>%tensorflow_version 1.x</code> magic:\n",
              "<a href=\"https://colab.research.google.com/notebooks/tensorflow_version.ipynb\" target=\"_blank\">more info</a>.</p>\n"
            ],
            "text/plain": [
              "<IPython.core.display.HTML object>"
            ]
          },
          "metadata": {
            "tags": []
          }
        }
      ]
    },
    {
      "cell_type": "code",
      "metadata": {
        "id": "N-wUeXTymXh-",
        "colab_type": "code",
        "colab": {}
      },
      "source": [
        "module_url = \"https://tfhub.dev/google/universal-sentence-encoder/2\" #@param [\"https://tfhub.dev/google/universal-sentence-encoder/2\", \"https://tfhub.dev/google/universal-sentence-encoder-large/3\"]"
      ],
      "execution_count": 0,
      "outputs": []
    },
    {
      "cell_type": "markdown",
      "metadata": {
        "id": "GCf9GMXCmr0R",
        "colab_type": "text"
      },
      "source": [
        "Code for generating word and Sentence embeddings"
      ]
    },
    {
      "cell_type": "code",
      "metadata": {
        "id": "6hQvGpWQm0Ul",
        "colab_type": "code",
        "outputId": "5ff4058c-226c-44e3-8c91-b899d97b6001",
        "colab": {
          "base_uri": "https://localhost:8080/",
          "height": 148
        }
      },
      "source": [
        "#Import the Universal Sentence Encoder's TF Hub module\n",
        "embed = hub.Module(module_url)"
      ],
      "execution_count": 0,
      "outputs": [
        {
          "output_type": "stream",
          "text": [
            "WARNING:tensorflow:From /usr/local/lib/python3.6/dist-packages/tensorflow/python/ops/control_flow_ops.py:3632: colocate_with (from tensorflow.python.framework.ops) is deprecated and will be removed in a future version.\n",
            "Instructions for updating:\n",
            "Colocations handled automatically by placer.\n"
          ],
          "name": "stdout"
        },
        {
          "output_type": "stream",
          "text": [
            "W0410 10:07:45.882799 140241228052352 deprecation.py:323] From /usr/local/lib/python3.6/dist-packages/tensorflow/python/ops/control_flow_ops.py:3632: colocate_with (from tensorflow.python.framework.ops) is deprecated and will be removed in a future version.\n",
            "Instructions for updating:\n",
            "Colocations handled automatically by placer.\n"
          ],
          "name": "stderr"
        }
      ]
    },
    {
      "cell_type": "markdown",
      "metadata": {
        "id": "SD5gqkJ9o71S",
        "colab_type": "text"
      },
      "source": [
        "Generate embeddings for word, sentence and review. We can use this to improve feature extraction\n",
        "\n"
      ]
    },
    {
      "cell_type": "code",
      "metadata": {
        "id": "plKRXw4wpFSB",
        "colab_type": "code",
        "outputId": "eeb6b1a5-65a8-43a8-c9ca-ed9417987ba9",
        "colab": {
          "base_uri": "https://localhost:8080/",
          "height": 239
        }
      },
      "source": [
        "word = \"Battery\"\n",
        "sentence = \"The battery does not last long.\"\n",
        "paragraph = (\n",
        "    \"The display is excellent and it is affordable.\"\n",
        "    \"Although I had some issues with the battery.\"\n",
        "    \"The phone is overall worth the price.\")\n",
        "messages = [word, sentence, paragraph]\n",
        "\n",
        "# Reduce logging output.\n",
        "tf.logging.set_verbosity(tf.logging.ERROR)\n",
        "\n",
        "with tf.Session() as session:\n",
        "  session.run([tf.global_variables_initializer(), tf.tables_initializer()])\n",
        "  message_embeddings = session.run(embed(messages))\n",
        "\n",
        "  for i, message_embedding in enumerate(np.array(message_embeddings).tolist()):\n",
        "    print(\"Message: {}\".format(messages[i]))\n",
        "    print(\"Embedding size: {}\".format(len(message_embedding)))\n",
        "    message_embedding_snippet = \", \".join(\n",
        "        (str(x) for x in message_embedding[:3]))\n",
        "    print(\"Embedding: [{}, ...]\\n\".format(message_embedding_snippet))"
      ],
      "execution_count": 0,
      "outputs": [
        {
          "output_type": "stream",
          "text": [
            "Message: Battery\n",
            "Embedding size: 512\n",
            "Embedding: [-0.028411904349923134, -0.008577127009630203, -0.03163396194577217, ...]\n",
            "\n",
            "Message: The battery does not last long.\n",
            "Embedding size: 512\n",
            "Embedding: [0.035201992839574814, 0.058463502675294876, -0.022710423916578293, ...]\n",
            "\n",
            "Message: The display is excellent and it is affordable.Although I had some issues with the battery.The phone is overall worth the price.\n",
            "Embedding size: 512\n",
            "Embedding: [0.06568684428930283, -0.004557429347187281, -0.02959667332470417, ...]\n",
            "\n"
          ],
          "name": "stdout"
        }
      ]
    },
    {
      "cell_type": "markdown",
      "metadata": {
        "id": "DpO_fpkEo60a",
        "colab_type": "text"
      },
      "source": [
        ""
      ]
    },
    {
      "cell_type": "code",
      "metadata": {
        "id": "UA9qmmEJoWQJ",
        "colab_type": "code",
        "colab": {}
      },
      "source": [
        "messages = [\n",
        "    \"I like my phone\",\n",
        "    \"My phone is not good.\",\n",
        "    \"Your cellphone looks great.\",\n",
        "\n",
        "    \"The phone is slow?\",\n",
        "    \"the movies are great\",\n",
        "    \"battery life is not good\",\n",
        "\n",
        "    \"Phone has good warranty\",\n",
        "    \"phone is costly\",\n",
        "    \"some irrelevant text?\",\n",
        "\n",
        "    \"this phone sucks\",\n",
        "    \"the screen size of the phone is less\",\n",
        "]"
      ],
      "execution_count": 0,
      "outputs": []
    },
    {
      "cell_type": "code",
      "metadata": {
        "id": "Mg01m7GduDRe",
        "colab_type": "code",
        "colab": {}
      },
      "source": [
        "\n",
        "\n",
        "def output_similarity (labels, features, rotation):\n",
        "\n",
        "  global corr\n",
        "  corr = np.inner(features, features)\n",
        "  return (corr)\n",
        "\n",
        "\n",
        "def run_and_plot(session_, input_tensor_, messages_, encoding_tensor):\n",
        "\n",
        "  message_embeddings_ = session_.run(\n",
        "\n",
        "      encoding_tensor, feed_dict={input_tensor_: messages_})\n",
        "      \n",
        "  output_similarity(messages_, message_embeddings_, 90)"
      ],
      "execution_count": 0,
      "outputs": []
    },
    {
      "cell_type": "code",
      "metadata": {
        "id": "WGaRkCPTu0X3",
        "colab_type": "code",
        "colab": {}
      },
      "source": [
        "similarity_input_placeholder = tf.placeholder(tf.string, shape=(None))\n",
        "similarity_message_encodings = embed(similarity_input_placeholder)\n",
        "\n",
        "with tf.Session() as session:\n",
        "  session.run(tf.global_variables_initializer())\n",
        "  session.run(tf.tables_initializer())\n",
        "  run_and_plot(session, similarity_input_placeholder, messages, similarity_message_encodings)"
      ],
      "execution_count": 0,
      "outputs": []
    },
    {
      "cell_type": "code",
      "metadata": {
        "id": "06nDx8d-oky6",
        "colab_type": "code",
        "outputId": "c3760878-2864-408b-b704-d83b1088116d",
        "colab": {
          "base_uri": "https://localhost:8080/",
          "height": 55
        }
      },
      "source": [
        "import networkx as nx\n",
        "nx_graph = nx.from_numpy_array(corr)\n",
        "scores = nx.pagerank(nx_graph)\n",
        "print(scores)"
      ],
      "execution_count": 0,
      "outputs": [
        {
          "output_type": "stream",
          "text": [
            "{0: 0.09875412117129174, 1: 0.102721825554344, 2: 0.08189273645236264, 3: 0.10105146356426309, 4: 0.059260922008092215, 5: 0.0960632112267486, 6: 0.09297894568252654, 7: 0.09664207237739239, 8: 0.07166806383453775, 9: 0.10442341378339784, 10: 0.09454322434504311}\n"
          ],
          "name": "stdout"
        }
      ]
    },
    {
      "cell_type": "code",
      "metadata": {
        "id": "zzVyklM34z5l",
        "colab_type": "code",
        "colab": {}
      },
      "source": [
        ""
      ],
      "execution_count": 0,
      "outputs": []
    },
    {
      "cell_type": "code",
      "metadata": {
        "id": "_b9Wz03n1xB7",
        "colab_type": "code",
        "colab": {}
      },
      "source": [
        "ranked_sentences = sorted(((scores[i],s) for i,s in enumerate(messages)), reverse=True)"
      ],
      "execution_count": 0,
      "outputs": []
    },
    {
      "cell_type": "code",
      "metadata": {
        "id": "dgoRx3Gs14Bl",
        "colab_type": "code",
        "outputId": "5cd467b5-cc23-4ff6-ae47-ac64fd0c0461",
        "colab": {
          "base_uri": "https://localhost:8080/",
          "height": 55
        }
      },
      "source": [
        "print(ranked_sentences)"
      ],
      "execution_count": 0,
      "outputs": [
        {
          "output_type": "stream",
          "text": [
            "[(0.10442341378339784, 'this phone sucks'), (0.102721825554344, 'My phone is not good.'), (0.10105146356426309, 'The phone is slow?'), (0.09875412117129174, 'I like my phone'), (0.09664207237739239, 'phone is costly'), (0.0960632112267486, 'battery life is not good'), (0.09454322434504311, 'the screen size of the phone is less'), (0.09297894568252654, 'Phone has good warranty'), (0.08189273645236264, 'Your cellphone looks great.'), (0.07166806383453775, 'some irrelevant text?'), (0.059260922008092215, 'the movies are great')]\n"
          ],
          "name": "stdout"
        }
      ]
    },
    {
      "cell_type": "code",
      "metadata": {
        "id": "HcHrAz6YBVKu",
        "colab_type": "code",
        "colab": {}
      },
      "source": [
        ""
      ],
      "execution_count": 0,
      "outputs": []
    }
  ]
}